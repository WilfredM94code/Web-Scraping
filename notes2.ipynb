{
 "cells": [
  {
   "cell_type": "code",
   "execution_count": 2,
   "metadata": {},
   "outputs": [],
   "source": [
    "# Beautiful Soup\n",
    "# Beautiful Soup is a Python library to analyze or parse HTML documents. Beautiful \n",
    "# soup structures HTML/XML data as a tree with every tag being a different branch.\n",
    "# It provides valuable tools to extract info from HTML files which makes it\n",
    "# useful for web scraping\n",
    "\n",
    "# This structure considers a hierarchical tag relation. \n",
    "# 1 - The HTML tag is considered parentNode, and is considered the parentNode for \n",
    "# every other tag.\n",
    "# 2 - The first nested tag is considered the firstChild and the inmediate nested tag\n",
    "# from a reference tag is considered the nextSibling. \n",
    "# 3 - If there are not nested tags within a tag that tag will be considered the \n",
    "# lastChild. Every\n",
    "# 4 - Every nested tad have a upper level tag considered previousSibling"
   ]
  },
  {
   "cell_type": "code",
   "execution_count": 15,
   "metadata": {},
   "outputs": [
    {
     "name": "stdout",
     "output_type": "stream",
     "text": [
      "<html>\n",
      "<head>\n",
      "<title>The Dormouse's story</title>\n",
      "</head>\n",
      "<body>\n",
      "<p class=\"title\">\n",
      "<b>The Dormouse's story</b>\n",
      "</p>\n",
      "<p class=\"story\">\n",
      "Once upon a time there were three little sisters; and their names were:\n",
      "\n",
      "    <a class=\"sister\" href=\"http://example.com/elsie\" id=\"link1\">Elsie</a>,\n",
      "    <a class=\"sister\" href=\"http://example.com/lacie\" id=\"link2\">Lacie</a> and\n",
      "    <a class=\"sister\" href=\"http://example.com/tillie\" id=\"link3\">Tillie</a>;\n",
      "\n",
      "and they lived at the bottom of a well.\n",
      "</p>\n",
      "<p class=\"story\">The story continues</p>\n",
      "</body>\n",
      "</html>\n",
      "\n",
      "<class 'bs4.BeautifulSoup'>\n"
     ]
    }
   ],
   "source": [
    "\n",
    "# Beautiful soup\n",
    "from bs4 import BeautifulSoup\n",
    "import requests\n",
    "\n",
    "# HTML string\n",
    "html_b = \"\"\"\n",
    "\n",
    "<html>\n",
    "    <head>\n",
    "        <title>The Dormouse's story</title>\n",
    "    </head>\n",
    "<body>\n",
    "<p class=\"title\">\n",
    "    <b>The Dormouse's story</b>\n",
    "</p>\n",
    "\n",
    "<p class=\"story\">\n",
    "Once upon a time there were three little sisters; and their names were:\n",
    "\n",
    "    <a href=\"http://example.com/elsie\" class=\"sister\" id=\"link1\">Elsie</a>,\n",
    "    <a href=\"http://example.com/lacie\" class=\"sister\" id=\"link2\">Lacie</a> and\n",
    "    <a href=\"http://example.com/tillie\" class=\"sister\" id=\"link3\">Tillie</a>;\n",
    "\n",
    "and they lived at the bottom of a well.\n",
    "</p>\n",
    "\n",
    "<p class=\"story\">The story continues</p>\n",
    "</body>\n",
    "</html>\n",
    "\"\"\"\n",
    "\n",
    "# Beautiful soup pasrese data from an HTML string like the one shown above\n",
    "soup_a = BeautifulSoup(html_b)\n",
    "print (soup_a)\n",
    "print (type(soup_a))"
   ]
  },
  {
   "cell_type": "code",
   "execution_count": 4,
   "metadata": {},
   "outputs": [
    {
     "name": "stdout",
     "output_type": "stream",
     "text": [
      "<html>\n",
      " <head>\n",
      "  <title>\n",
      "   The Dormouse's story\n",
      "  </title>\n",
      " </head>\n",
      " <body>\n",
      "  <p class=\"title\">\n",
      "   <b>\n",
      "    The Dormouse's story\n",
      "   </b>\n",
      "  </p>\n",
      "  <p class=\"story\">\n",
      "   Once upon a time there were three little sisters; and their names were:\n",
      "   <a class=\"sister\" href=\"http://example.com/elsie\" id=\"link1\">\n",
      "    Elsie\n",
      "   </a>\n",
      "   ,\n",
      "   <a class=\"sister\" href=\"http://example.com/lacie\" id=\"link2\">\n",
      "    Lacie\n",
      "   </a>\n",
      "   and\n",
      "   <a class=\"sister\" href=\"http://example.com/tillie\" id=\"link3\">\n",
      "    Tillie\n",
      "   </a>\n",
      "   ;\n",
      "\n",
      "and they lived at the bottom of a well.\n",
      "  </p>\n",
      "  <p class=\"story\">\n",
      "   The story continues\n",
      "  </p>\n",
      " </body>\n",
      "</html>\n",
      "\n"
     ]
    }
   ],
   "source": [
    "\n",
    "# Beautiful soup has a method called 'prettify()' that places correct indentation\n",
    "# on an HTML string\n",
    "print (soup_a.prettify())\n"
   ]
  },
  {
   "cell_type": "code",
   "execution_count": 5,
   "metadata": {},
   "outputs": [
    {
     "name": "stdout",
     "output_type": "stream",
     "text": [
      "<title>The Dormouse's story</title>\n"
     ]
    }
   ],
   "source": [
    "# Tags can be accessed by using tag names a attributes\n",
    "print (soup_a.title)\n"
   ]
  },
  {
   "cell_type": "code",
   "execution_count": 6,
   "metadata": {},
   "outputs": [
    {
     "name": "stdout",
     "output_type": "stream",
     "text": [
      "<body>\n",
      "<p class=\"title\">\n",
      "<b>The Dormouse's story</b>\n",
      "</p>\n",
      "<p class=\"story\">\n",
      "Once upon a time there were three little sisters; and their names were:\n",
      "\n",
      "    <a class=\"sister\" href=\"http://example.com/elsie\" id=\"link1\">Elsie</a>,\n",
      "    <a class=\"sister\" href=\"http://example.com/lacie\" id=\"link2\">Lacie</a> and\n",
      "    <a class=\"sister\" href=\"http://example.com/tillie\" id=\"link3\">Tillie</a>;\n",
      "\n",
      "and they lived at the bottom of a well.\n",
      "</p>\n",
      "<p class=\"story\">The story continues</p>\n",
      "</body>\n"
     ]
    }
   ],
   "source": [
    "# When parent tags are called bring all content within the open and closing tag\n",
    "print (soup_a.body)\n"
   ]
  },
  {
   "cell_type": "code",
   "execution_count": 7,
   "metadata": {},
   "outputs": [
    {
     "name": "stdout",
     "output_type": "stream",
     "text": [
      "<a class=\"sister\" href=\"http://example.com/elsie\" id=\"link1\">Elsie</a>\n"
     ]
    }
   ],
   "source": [
    "# In case there are several intances of a tag BS will return the 1st one\n",
    "print (soup_a.a)\n"
   ]
  },
  {
   "cell_type": "code",
   "execution_count": 8,
   "metadata": {},
   "outputs": [
    {
     "name": "stdout",
     "output_type": "stream",
     "text": [
      "body\n"
     ]
    }
   ],
   "source": [
    "# There can be called tag names\n",
    "print (soup_a.body.name)\n"
   ]
  },
  {
   "cell_type": "code",
   "execution_count": 9,
   "metadata": {},
   "outputs": [
    {
     "name": "stdout",
     "output_type": "stream",
     "text": [
      "<p class=\"story\">\n",
      "Once upon a time there were three little sisters; and their names were:\n",
      "\n",
      "    <a class=\"sister\" href=\"http://example.com/elsie\" id=\"link1\">Elsie</a>,\n",
      "    <a class=\"sister\" href=\"http://example.com/lacie\" id=\"link2\">Lacie</a> and\n",
      "    <a class=\"sister\" href=\"http://example.com/tillie\" id=\"link3\">Tillie</a>;\n",
      "\n",
      "and they lived at the bottom of a well.\n",
      "</p>\n"
     ]
    }
   ],
   "source": [
    "# There can be called parent tag\n",
    "print (soup_a.a.parent)\n"
   ]
  },
  {
   "cell_type": "code",
   "execution_count": 10,
   "metadata": {},
   "outputs": [
    {
     "name": "stdout",
     "output_type": "stream",
     "text": [
      "<html>\n",
      " <body>\n",
      "  <h1>\n",
      "   <a>\n",
      "   </a>\n",
      "   <b>\n",
      "   </b>\n",
      "   <th>\n",
      "   </th>\n",
      "  </h1>\n",
      " </body>\n",
      "</html>\n"
     ]
    }
   ],
   "source": [
    "# BS has several parser can be used over malformed HTML data and make it work\n",
    "# Note that by default BS parsers is for XML\n",
    "html_c = \"\"\"\n",
    "    <h1><a /><b><th <td>\n",
    "\"\"\"\n",
    "soup_b = BeautifulSoup(html_c)\n",
    "print(soup_b.prettify())\n"
   ]
  },
  {
   "cell_type": "code",
   "execution_count": 11,
   "metadata": {},
   "outputs": [
    {
     "name": "stdout",
     "output_type": "stream",
     "text": [
      "<html>\n",
      " <body>\n",
      "  <h1>\n",
      "   <a>\n",
      "   </a>\n",
      "   <b>\n",
      "   </b>\n",
      "   <th>\n",
      "   </th>\n",
      "  </h1>\n",
      " </body>\n",
      "</html>\n"
     ]
    }
   ],
   "source": [
    "# To specify the parser there has to be provided in the form of a string\n",
    "# XML parser\n",
    "soup_c = BeautifulSoup(html_c, 'lxml')\n",
    "print(soup_c.prettify())\n"
   ]
  },
  {
   "cell_type": "code",
   "execution_count": 12,
   "metadata": {},
   "outputs": [
    {
     "name": "stdout",
     "output_type": "stream",
     "text": [
      "<h1>\n",
      " <a>\n",
      " </a>\n",
      " <b>\n",
      "  <th <td=\"\">\n",
      "  </th>\n",
      " </b>\n",
      "</h1>\n"
     ]
    }
   ],
   "source": [
    "# HTML 'default' parser\n",
    "soup_d = BeautifulSoup(html_c, 'html.parser')\n",
    "print(soup_d.prettify())"
   ]
  },
  {
   "cell_type": "code",
   "execution_count": 13,
   "metadata": {},
   "outputs": [
    {
     "name": "stdout",
     "output_type": "stream",
     "text": [
      "<html>\n",
      " <head>\n",
      " </head>\n",
      " <body>\n",
      "  <h1>\n",
      "   <a>\n",
      "    <b>\n",
      "    </b>\n",
      "   </a>\n",
      "  </h1>\n",
      " </body>\n",
      "</html>\n"
     ]
    }
   ],
   "source": [
    "# HTML5 parser\n",
    "soup_e = BeautifulSoup(html_c, 'html5lib')\n",
    "print(soup_e.prettify())"
   ]
  },
  {
   "cell_type": "code",
   "execution_count": 19,
   "metadata": {},
   "outputs": [
    {
     "data": {
      "text/plain": [
       "<Response [200]>"
      ]
     },
     "execution_count": 19,
     "metadata": {},
     "output_type": "execute_result"
    }
   ],
   "source": [
    "# Data can be requested using an HTTP request from requests\n",
    "uri_j = 'https://www.google.com/'\n",
    "resp_data_n = requests.get(uri_j)\n",
    "resp_data_n"
   ]
  },
  {
   "cell_type": "code",
   "execution_count": 23,
   "metadata": {},
   "outputs": [
    {
     "name": "stdout",
     "output_type": "stream",
     "text": [
      "<!DOCTYPE html>\n",
      "<html itemscope=\"\" itemtype=\"http://schema.org/WebPage\" lang=\"es-419\">\n",
      " <head>\n",
      "  <meta content=\"text/html; charset=utf-8\" http-equiv=\"Content-Type\"/>\n",
      "  <meta content=\"/images/branding/googleg/1x/googleg_standard_color_128dp.png\" itemprop=\"image\"/>\n",
      "  <title>\n",
      "   Google\n",
      "  </title>\n",
      "  <script nonce=\"f4lToEJKqcHOkvt1MjUUBw\">\n",
      "   (function(){window.google={kEI:'6bfsYuzMH7GDwbkP8LylmAs',kEXPI:'0,18167,1284363,56879,6058,207,4804,2316,383,246,5,5367,1123753,1197789,303173,77529,16114,17444,1953,9287,17572,4858,1362,9291,3023,4751,12834,4998,13228,14469,22741,262,4819,1593,1279,2742,149,1103,840,6297,108,3406,606,2023,1777,520,14670,3227,2845,7,25552,8218,1851,6398,9358,3,576,6460,803,13320,4,1528,2304,7039,20309,4764,2658,4164,3193,13658,4437,16786,5809,2548,4094,17,4035,3,3541,1,11942,30212,2,28138,11623,5679,1021,2380,20981,6,2,7752,4568,6259,23417,1247,5841,14968,4332,6089,1395,445,2,2,1,17312,9320,8155,6582,799,3043,11637,2163,5178,9710,4745,7,1922,5706,4073,23,6865,5526,6716,4590,702,5996,903,3373,1460,1319,4634,159,448,812,562,1898,5648,552,984,122,415,285,4,1,2,2,2,2,1384,3953,1510,16,221,7,1,761,547,2,1278,288,3948,533,3,672,3136,2,206,3190,63,197,348,148,58,758,2411,244,397,248,275,277,1405,302,14,82,133,199,28,531,35,24,925,1484,769,227,286,82,255,483,2,142,810,459,786,1444,745,37,6,467,208,341,329,2,2,106,807,1164,44,11369206,2804424,3311,141,795,19735,1,1,346,768,8,231,23,6,12,20,6,3,3,76,23949329,4042142,4899,159,1358,9845,2376,3405,7172,929720',kBL:'lSxp'};google.sn='webhp';google.kHL='es-419';})();(function(){\n",
      "var f=this||self;var h,k=[];function l(a){for(var b;a&&(!a.getAttribute||!(b=a.getAttribute(\"eid\")));)a=a.parentNode;return b||h}function m(a){for(var b=null;a&&(!a.getAttribute||!(b=a.getAttribute(\"leid\")));)a=a.parentNode;return b}\n",
      "function n(a,b,c,d,g){var e=\"\";c||-1!==b.search(\"&ei=\")||(e=\"&ei=\"+l(d),-1===b.search(\"&lei=\")&&(d=m(d))&&(e+=\"&lei=\"+d));d=\"\";!c&&f._cshid&&-1===b.search(\"&cshid=\")&&\"slh\"!==a&&(d=\"&cshid=\"+f._cshid);c=c||\"/\"+(g||\"gen_204\")+\"?atyp=i&ct=\"+a+\"&cad=\"+b+e+\"&zx=\"+Date.now()+d;/^http:/i.test(c)&&\"https:\"===window.location.protocol&&(google.ml&&google.ml(Error(\"a\"),!1,{src:c,glmm:1}),c=\"\");return c};h=google.kEI;google.getEI=l;google.getLEI=m;google.ml=function(){return null};google.log=function(a,b,c,d,g){if(c=n(a,b,c,d,g)){a=new Image;var e=k.length;k[e]=a;a.onerror=a.onload=a.onabort=function(){delete k[e]};a.src=c}};google.logUrl=n;}).call(this);(function(){\n",
      "google.y={};google.sy=[];google.x=function(a,b){if(a)var c=a.id;else{do c=Math.random();while(google.y[c])}google.y[c]=[a,b];return!1};google.sx=function(a){google.sy.push(a)};google.lm=[];google.plm=function(a){google.lm.push.apply(google.lm,a)};google.lq=[];google.load=function(a,b,c){google.lq.push([[a],b,c])};google.loadAll=function(a,b){google.lq.push([a,b])};google.bx=!1;google.lx=function(){};}).call(this);google.f={};(function(){\n",
      "document.documentElement.addEventListener(\"submit\",function(b){var a;if(a=b.target){var c=a.getAttribute(\"data-submitfalse\");a=\"1\"===c||\"q\"===c&&!a.elements.q.value?!0:!1}else a=!1;a&&(b.preventDefault(),b.stopPropagation())},!0);document.documentElement.addEventListener(\"click\",function(b){var a;a:{for(a=b.target;a&&a!==document.documentElement;a=a.parentElement)if(\"A\"===a.tagName){a=\"1\"===a.getAttribute(\"data-nohref\");break a}a=!1}a&&b.preventDefault()},!0);}).call(this);\n",
      "  </script>\n",
      "  <style>\n",
      "   #gbar,#guser{font-size:13px;padding-top:1px !important;}#gbar{height:22px}#guser{padding-bottom:7px !important;text-align:right}.gbh,.gbd{border-top:1px solid #c9d7f1;font-size:1px}.gbh{height:0;position:absolute;top:24px;width:100%}@media all{.gb1{height:22px;margin-right:.5em;vertical-align:top}#gbar{float:left}}a.gb1,a.gb4{text-decoration:underline !important}a.gb1,a.gb4{color:#00c !important}.gbi .gb4{color:#dd8e27 !important}.gbf .gb4{color:#900 !important}\n",
      "  </style>\n",
      "  <style>\n",
      "   body,td,a,p,.h{font-family:arial,sans-serif}body{margin:0;overflow-y:scroll}#gog{padding:3px 8px 0}td{line-height:.8em}.gac_m td{line-height:17px}form{margin-bottom:20px}.h{color:#1558d6}em{font-weight:bold;font-style:normal}.lst{height:25px;width:496px}.gsfi,.lst{font:18px arial,sans-serif}.gsfs{font:17px arial,sans-serif}.ds{display:inline-box;display:inline-block;margin:3px 0 4px;margin-left:4px}input{font-family:inherit}body{background:#fff;color:#000}a{color:#4b11a8;text-decoration:none}a:hover,a:active{text-decoration:underline}.fl a{color:#1558d6}a:visited{color:#4b11a8}.sblc{padding-top:5px}.sblc a{display:block;margin:2px 0;margin-left:13px;font-size:11px}.lsbb{background:#f8f9fa;border:solid 1px;border-color:#dadce0 #70757a #70757a #dadce0;height:30px}.lsbb{display:block}#WqQANb a{display:inline-block;margin:0 12px}.lsb{background:url(/images/nav_logo229.png) 0 -261px repeat-x;border:none;color:#000;cursor:pointer;height:30px;margin:0;outline:0;font:15px arial,sans-serif;vertical-align:top}.lsb:active{background:#dadce0}.lst:focus{outline:none}\n",
      "  </style>\n",
      "  <script nonce=\"f4lToEJKqcHOkvt1MjUUBw\">\n",
      "   (function(){window.google.erd={jsr:1,bv:1630,de:true};\n",
      "var h=this||self;var k,l=null!=(k=h.mei)?k:1,n,p=null!=(n=h.sdo)?n:!0,q=0,r,t=google.erd,v=t.jsr;google.ml=function(a,b,d,m,e){e=void 0===e?2:e;b&&(r=a&&a.message);if(google.dl)return google.dl(a,e,d),null;if(0>v){window.console&&console.error(a,d);if(-2===v)throw a;b=!1}else b=!a||!a.message||\"Error loading script\"===a.message||q>=l&&!m?!1:!0;if(!b)return null;q++;d=d||{};b=encodeURIComponent;var c=\"/gen_204?atyp=i&ei=\"+b(google.kEI);google.kEXPI&&(c+=\"&jexpid=\"+b(google.kEXPI));c+=\"&srcpg=\"+b(google.sn)+\"&jsr=\"+b(t.jsr)+\"&bver=\"+b(t.bv);var f=a.lineNumber;void 0!==f&&(c+=\"&line=\"+f);var g=\n",
      "a.fileName;g&&(0<g.indexOf(\"-extension:/\")&&(e=3),c+=\"&script=\"+b(g),f&&g===window.location.href&&(f=document.documentElement.outerHTML.split(\"\\n\")[f],c+=\"&cad=\"+b(f?f.substring(0,300):\"No script found.\")));c+=\"&jsel=\"+e;for(var u in d)c+=\"&\",c+=b(u),c+=\"=\",c+=b(d[u]);c=c+\"&emsg=\"+b(a.name+\": \"+a.message);c=c+\"&jsst=\"+b(a.stack||\"N/A\");12288<=c.length&&(c=c.substr(0,12288));a=c;m||google.log(0,\"\",a);return a};window.onerror=function(a,b,d,m,e){r!==a&&(a=e instanceof Error?e:Error(a),void 0===d||\"lineNumber\"in a||(a.lineNumber=d),void 0===b||\"fileName\"in a||(a.fileName=b),google.ml(a,!1,void 0,!1,\"SyntaxError\"===a.name||\"SyntaxError\"===a.message.substring(0,11)||0<a.message.indexOf(\"Script error\")?2:0));r=null;p&&q>=l&&(window.onerror=null)};})();\n",
      "  </script>\n",
      " </head>\n",
      " <body bgcolor=\"#fff\">\n",
      "  <script nonce=\"f4lToEJKqcHOkvt1MjUUBw\">\n",
      "   (function(){var src='/images/nav_logo229.png';var iesg=false;document.body.onload = function(){window.n && window.n();if (document.images){new Image().src=src;}\n",
      "if (!iesg){document.f&&document.f.q.focus();document.gbqf&&document.gbqf.q.focus();}\n",
      "}\n",
      "})();\n",
      "  </script>\n",
      "  <div id=\"mngb\">\n",
      "   <div id=\"gbar\">\n",
      "    <nobr>\n",
      "     <b class=\"gb1\">\n",
      "      Búsqueda\n",
      "     </b>\n",
      "     <a class=\"gb1\" href=\"https://www.google.co.ve/imghp?hl=es-419&amp;tab=wi\">\n",
      "      Imágenes\n",
      "     </a>\n",
      "     <a class=\"gb1\" href=\"https://maps.google.co.ve/maps?hl=es-419&amp;tab=wl\">\n",
      "      Maps\n",
      "     </a>\n",
      "     <a class=\"gb1\" href=\"https://play.google.com/?hl=es-419&amp;tab=w8\">\n",
      "      Play\n",
      "     </a>\n",
      "     <a class=\"gb1\" href=\"https://news.google.com/?tab=wn\">\n",
      "      Noticias\n",
      "     </a>\n",
      "     <a class=\"gb1\" href=\"https://mail.google.com/mail/?tab=wm\">\n",
      "      Gmail\n",
      "     </a>\n",
      "     <a class=\"gb1\" href=\"https://drive.google.com/?tab=wo\">\n",
      "      Drive\n",
      "     </a>\n",
      "     <a class=\"gb1\" href=\"https://calendar.google.com/calendar?tab=wc\">\n",
      "      Calendario\n",
      "     </a>\n",
      "     <a class=\"gb1\" href=\"https://www.google.co.ve/intl/es-419/about/products?tab=wh\" style=\"text-decoration:none\">\n",
      "      <u>\n",
      "       Más\n",
      "      </u>\n",
      "      »\n",
      "     </a>\n",
      "    </nobr>\n",
      "   </div>\n",
      "   <div id=\"guser\" width=\"100%\">\n",
      "    <nobr>\n",
      "     <span class=\"gbi\" id=\"gbn\">\n",
      "     </span>\n",
      "     <span class=\"gbf\" id=\"gbf\">\n",
      "     </span>\n",
      "     <span id=\"gbe\">\n",
      "     </span>\n",
      "     <a class=\"gb4\" href=\"http://www.google.co.ve/history/optout?hl=es-419\">\n",
      "      Historial web\n",
      "     </a>\n",
      "     |\n",
      "     <a class=\"gb4\" href=\"/preferences?hl=es-419\">\n",
      "      Preferencias\n",
      "     </a>\n",
      "     |\n",
      "     <a class=\"gb4\" href=\"https://accounts.google.com/ServiceLogin?hl=es-419&amp;passive=true&amp;continue=https://www.google.com/&amp;ec=GAZAAQ\" id=\"gb_70\" target=\"_top\">\n",
      "      Acceder\n",
      "     </a>\n",
      "    </nobr>\n",
      "   </div>\n",
      "   <div class=\"gbh\" style=\"left:0\">\n",
      "   </div>\n",
      "   <div class=\"gbh\" style=\"right:0\">\n",
      "   </div>\n",
      "  </div>\n",
      "  <center>\n",
      "   <br clear=\"all\" id=\"lgpd\"/>\n",
      "   <div id=\"lga\">\n",
      "    <img alt=\"Google\" height=\"92\" id=\"hplogo\" src=\"/images/branding/googlelogo/1x/googlelogo_white_background_color_272x92dp.png\" style=\"padding:28px 0 14px\" width=\"272\"/>\n",
      "    <br/>\n",
      "    <br/>\n",
      "   </div>\n",
      "   <form action=\"/search\" name=\"f\">\n",
      "    <table cellpadding=\"0\" cellspacing=\"0\">\n",
      "     <tbody>\n",
      "      <tr valign=\"top\">\n",
      "       <td width=\"25%\">\n",
      "       </td>\n",
      "       <td align=\"center\" nowrap=\"\">\n",
      "        <input name=\"ie\" type=\"hidden\" value=\"ISO-8859-1\"/>\n",
      "        <input name=\"hl\" type=\"hidden\" value=\"es-419\"/>\n",
      "        <input name=\"source\" type=\"hidden\" value=\"hp\"/>\n",
      "        <input name=\"biw\" type=\"hidden\"/>\n",
      "        <input name=\"bih\" type=\"hidden\"/>\n",
      "        <div class=\"ds\" style=\"height:32px;margin:4px 0\">\n",
      "         <input autocomplete=\"off\" class=\"lst\" maxlength=\"2048\" name=\"q\" size=\"57\" style=\"margin:0;padding:5px 8px 0 6px;vertical-align:top;color:#000\" title=\"Buscar con Google\" value=\"\"/>\n",
      "        </div>\n",
      "        <br style=\"line-height:0\"/>\n",
      "        <span class=\"ds\">\n",
      "         <span class=\"lsbb\">\n",
      "          <input class=\"lsb\" name=\"btnG\" type=\"submit\" value=\"Buscar con Google\"/>\n",
      "         </span>\n",
      "        </span>\n",
      "        <span class=\"ds\">\n",
      "         <span class=\"lsbb\">\n",
      "          <input class=\"lsb\" id=\"tsuid1\" name=\"btnI\" type=\"submit\" value=\"Voy a tener suerte\"/>\n",
      "          <script nonce=\"f4lToEJKqcHOkvt1MjUUBw\">\n",
      "           (function(){var id='tsuid1';document.getElementById(id).onclick = function(){if (this.form.q.value){this.checked = 1;if (this.form.iflsig)this.form.iflsig.disabled = false;}\n",
      "else top.location='/doodles/';};})();\n",
      "          </script>\n",
      "          <input name=\"iflsig\" type=\"hidden\" value=\"AJiK0e8AAAAAYuzF-S-SAhoQrrldtyOu-z_xly7IXOTX\"/>\n",
      "         </span>\n",
      "        </span>\n",
      "       </td>\n",
      "       <td align=\"left\" class=\"fl sblc\" nowrap=\"\" width=\"25%\">\n",
      "        <a href=\"/advanced_search?hl=es-419&amp;authuser=0\">\n",
      "         Búsqueda avanzada\n",
      "        </a>\n",
      "       </td>\n",
      "      </tr>\n",
      "     </tbody>\n",
      "    </table>\n",
      "    <input id=\"gbv\" name=\"gbv\" type=\"hidden\" value=\"1\"/>\n",
      "    <script nonce=\"f4lToEJKqcHOkvt1MjUUBw\">\n",
      "     (function(){\n",
      "var a,b=\"1\";if(document&&document.getElementById)if(\"undefined\"!=typeof XMLHttpRequest)b=\"2\";else if(\"undefined\"!=typeof ActiveXObject){var c,d,e=[\"MSXML2.XMLHTTP.6.0\",\"MSXML2.XMLHTTP.3.0\",\"MSXML2.XMLHTTP\",\"Microsoft.XMLHTTP\"];for(c=0;d=e[c++];)try{new ActiveXObject(d),b=\"2\"}catch(h){}}a=b;if(\"2\"==a&&-1==location.search.indexOf(\"&gbv=2\")){var f=google.gbvu,g=document.getElementById(\"gbv\");g&&(g.value=a);f&&window.setTimeout(function(){location.href=f},0)};}).call(this);\n",
      "    </script>\n",
      "   </form>\n",
      "   <div id=\"gac_scont\">\n",
      "   </div>\n",
      "   <div style=\"font-size:83%;min-height:3.5em\">\n",
      "    <br/>\n",
      "   </div>\n",
      "   <span id=\"footer\">\n",
      "    <div style=\"font-size:10pt\">\n",
      "     <div id=\"WqQANb\" style=\"margin:19px auto;text-align:center\">\n",
      "      <a href=\"/intl/es-419/ads/\">\n",
      "       Programas de publicidad\n",
      "      </a>\n",
      "      <a href=\"/services/\">\n",
      "       Soluciones Empresariales\n",
      "      </a>\n",
      "      <a href=\"/intl/es-419/about.html\">\n",
      "       Todo acerca de Google\n",
      "      </a>\n",
      "      <a href=\"https://www.google.com/setprefdomain?prefdom=VE&amp;prev=https://www.google.co.ve/&amp;sig=K_JsT-hCQiJ1LainXL-ics1fF4hCI%3D\">\n",
      "       Google.co.ve\n",
      "      </a>\n",
      "     </div>\n",
      "    </div>\n",
      "    <p style=\"font-size:8pt;color:#70757a\">\n",
      "     © 2022 -\n",
      "     <a href=\"/intl/es-419/policies/privacy/\">\n",
      "      Privacidad\n",
      "     </a>\n",
      "     -\n",
      "     <a href=\"/intl/es-419/policies/terms/\">\n",
      "      Condiciones\n",
      "     </a>\n",
      "    </p>\n",
      "   </span>\n",
      "  </center>\n",
      "  <script nonce=\"f4lToEJKqcHOkvt1MjUUBw\">\n",
      "   (function(){window.google.cdo={height:757,width:1440};(function(){\n",
      "var a=window.innerWidth,b=window.innerHeight;if(!a||!b){var c=window.document,d=\"CSS1Compat\"==c.compatMode?c.documentElement:c.body;a=d.clientWidth;b=d.clientHeight}a&&b&&(a!=google.cdo.width||b!=google.cdo.height)&&google.log(\"\",\"\",\"/client_204?&atyp=i&biw=\"+a+\"&bih=\"+b+\"&ei=\"+google.kEI);}).call(this);})();\n",
      "  </script>\n",
      "  <script nonce=\"f4lToEJKqcHOkvt1MjUUBw\">\n",
      "   (function(){google.xjs={ck:'xjs.hp.wV_mtd6jOzc.L.X.O',cs:'ACT90oHDthUwAUKRcQYWroBZL7ja4L91yg',excm:[]};})();\n",
      "  </script>\n",
      "  <script nonce=\"f4lToEJKqcHOkvt1MjUUBw\">\n",
      "   (function(){var u='/xjs/_/js/k\\x3dxjs.hp.en._ci6cTzgS-U.O/am\\x3dAMATAIAEACg/d\\x3d1/ed\\x3d1/rs\\x3dACT90oHVP0ihusu4C0osWsYFamKAS_c_iw/m\\x3dsb_he,d';\n",
      "var d=this||self,e=function(a){return a};\n",
      "var g;var l=function(a,b){this.g=b===h?a:\"\"};l.prototype.toString=function(){return this.g+\"\"};var h={};function n(){var a=u;google.lx=function(){p(a);google.lx=function(){}};google.bx||google.lx()}\n",
      "function p(a){google.timers&&google.timers.load&&google.tick&&google.tick(\"load\",\"xjsls\");var b=document;var c=\"SCRIPT\";\"application/xhtml+xml\"===b.contentType&&(c=c.toLowerCase());c=b.createElement(c);if(void 0===g){b=null;var k=d.trustedTypes;if(k&&k.createPolicy){try{b=k.createPolicy(\"goog#html\",{createHTML:e,createScript:e,createScriptURL:e})}catch(q){d.console&&d.console.error(q.message)}g=b}else g=b}a=(b=g)?b.createScriptURL(a):a;a=new l(a,h);c.src=a instanceof l&&a.constructor===l?a.g:\"type_error:TrustedResourceUrl\";var f,m;(f=(a=null==(m=(f=(c.ownerDocument&&c.ownerDocument.defaultView||window).document).querySelector)?void 0:m.call(f,\"script[nonce]\"))?a.nonce||a.getAttribute(\"nonce\")||\"\":\"\")&&c.setAttribute(\"nonce\",f);document.body.appendChild(c);google.psa=!0};google.xjsu=u;setTimeout(function(){n()},0);})();function _DumpException(e){throw e;}\n",
      "function _F_installCss(c){}\n",
      "(function(){google.jl={blt:'none',chnk:0,dw:false,dwu:true,emtn:0,end:0,ine:false,injs:'none',injt:0,injth:0,injv2:false,lls:'default',pdt:0,rep:0,snet:true,strt:0,ubm:false,uwp:true};})();(function(){var pmc='{\\x22d\\x22:{},\\x22sb_he\\x22:{\\x22agen\\x22:true,\\x22cgen\\x22:true,\\x22client\\x22:\\x22heirloom-hp\\x22,\\x22dh\\x22:true,\\x22dhqt\\x22:true,\\x22ds\\x22:\\x22\\x22,\\x22ffql\\x22:\\x22es\\x22,\\x22fl\\x22:true,\\x22host\\x22:\\x22google.com\\x22,\\x22isbh\\x22:28,\\x22jsonp\\x22:true,\\x22msgs\\x22:{\\x22cibl\\x22:\\x22Borrar búsqueda\\x22,\\x22dym\\x22:\\x22Quizás quisiste decir:\\x22,\\x22lcky\\x22:\\x22Voy a tener suerte\\x22,\\x22lml\\x22:\\x22Más información\\x22,\\x22oskt\\x22:\\x22Herramientas de captura de texto\\x22,\\x22psrc\\x22:\\x22Se ha eliminado esta búsqueda de tu \\\\u003Ca href\\x3d\\\\\\x22/history\\\\\\x22\\\\u003EHistorial web\\\\u003C/a\\\\u003E\\x22,\\x22psrl\\x22:\\x22Eliminar\\x22,\\x22sbit\\x22:\\x22Buscar por imágenes\\x22,\\x22srch\\x22:\\x22Buscar con Google\\x22},\\x22ovr\\x22:{},\\x22pq\\x22:\\x22\\x22,\\x22refpd\\x22:true,\\x22rfs\\x22:[],\\x22sbas\\x22:\\x220 3px 8px 0 rgba(0,0,0,0.2),0 0 0 1px rgba(0,0,0,0.08)\\x22,\\x22sbpl\\x22:16,\\x22sbpr\\x22:16,\\x22scd\\x22:10,\\x22stok\\x22:\\x22fPO7Kue5qawjlLtEMfyVCr6OeTM\\x22,\\x22uhde\\x22:false}}';google.pmc=JSON.parse(pmc);})();\n",
      "  </script>\n",
      " </body>\n",
      "</html>\n"
     ]
    }
   ],
   "source": [
    "soup_f = BeautifulSoup(resp_data_n.text, 'html5lib')\n",
    "print(soup_f.prettify())"
   ]
  },
  {
   "cell_type": "code",
   "execution_count": 31,
   "metadata": {},
   "outputs": [
    {
     "name": "stdout",
     "output_type": "stream",
     "text": [
      "<html>\n",
      " <head>\n",
      "  <title>\n",
      "   \"Giant Panda\"\n",
      "  </title>\n",
      " </head>\n",
      " <body>\n",
      "  <h1>\n",
      "   The giant panda also known as panda bear or simply panda\n",
      "  </h1>\n",
      "  <h2 style=\"color:blue;\">\n",
      "   Giant Panda\n",
      "  </h2>\n",
      "  <h3 style=\"background-color:yellow;color:red;\">\n",
      "   The name \"giant panda\" is sometimes used to distinguish it from the\n",
      "   <br/>\n",
      "   red panda.\n",
      "  </h3>\n",
      "  <h6>\n",
      "   The giant panda lives in a few mountain ranges in central China\n",
      "  </h6>\n",
      "  <b class=\"panda\">\n",
      "   pandas were thought to be rare and noble creatures\n",
      "  </b>\n",
      "  <div>\n",
      "   <a href=\"https://en.wikipedia.org/wiki/Giant_panda\">\n",
      "    Link to Wikipedia page\n",
      "   </a>\n",
      "  </div>\n",
      "  <br/>\n",
      "  <br/>\n",
      "  <i>\n",
      "   <!--Here is a Panda image from Wikipedia -->\n",
      "  </i>\n",
      "  <div>\n",
      "   <img alt=\"panda not found\" src=\"Panda.jpeg\"/>\n",
      "  </div>\n",
      "  <div>\n",
      "   <p class=\"panda highlight\">\n",
      "    Giant pandas in the wild will occasionally eat other grasses, wild tubers, or even meat in the form of birds\n",
      "   </p>\n",
      "  </div>\n",
      " </body>\n",
      "</html>\n"
     ]
    }
   ],
   "source": [
    "# Extracting data from a HTML file\n",
    "# From an open HTML there can be parsed the HTML content\n",
    "\n",
    "with open(\"resources/GiantPanda.html\") as html_d:\n",
    "    soup_g = BeautifulSoup(html_d, \"html5lib\")\n",
    "    print(soup_g.prettify())\n"
   ]
  },
  {
   "cell_type": "code",
   "execution_count": 32,
   "metadata": {},
   "outputs": [
    {
     "name": "stdout",
     "output_type": "stream",
     "text": [
      "<title>\"Giant Panda\"</title>\n",
      "<class 'bs4.element.Tag'>\n"
     ]
    }
   ],
   "source": [
    "# HTML tags are a class itelf\n",
    "tag_a = soup_g.title\n",
    "print(tag_a)\n",
    "print(type(tag_a))"
   ]
  },
  {
   "cell_type": "code",
   "execution_count": 33,
   "metadata": {},
   "outputs": [
    {
     "name": "stdout",
     "output_type": "stream",
     "text": [
      "<h1>The giant panda also known as panda bear or simply panda</h1>\n",
      "<reign>The giant panda also known as panda bear or simply panda</reign>\n"
     ]
    }
   ],
   "source": [
    "# If an HTML string has to be modified it can be done using BS\n",
    "print('1st tag name: ',soup_g.h1)\n",
    "soup_g.h1.name = 'reign'\n",
    "print('2nd tag name: ',soup_g.reign)"
   ]
  },
  {
   "cell_type": "code",
   "execution_count": 38,
   "metadata": {},
   "outputs": [
    {
     "name": "stdout",
     "output_type": "stream",
     "text": [
      "{'href': 'https://en.wikipedia.org/wiki/Giant_panda'}\n",
      "<class 'dict'>\n"
     ]
    }
   ],
   "source": [
    "# Attributes from a tag are displayed as a dict\n",
    "print(soup_g.a.attrs)\n",
    "print(type(soup_g.a.attrs))"
   ]
  },
  {
   "cell_type": "code",
   "execution_count": 36,
   "metadata": {},
   "outputs": [
    {
     "name": "stdout",
     "output_type": "stream",
     "text": [
      "https://en.wikipedia.org/wiki/Giant_panda\n"
     ]
    }
   ],
   "source": [
    "# Tag atributes can be selected using the the keywords\n",
    "# This is useful to get links\n",
    "print(soup_g.a['href'])"
   ]
  },
  {
   "cell_type": "code",
   "execution_count": 40,
   "metadata": {},
   "outputs": [
    {
     "name": "stdout",
     "output_type": "stream",
     "text": [
      "<img alt=\"panda not found\" src=\"Panda.jpeg\"/>\n",
      "{'src': 'Panda.jpeg', 'alt': 'panda not found'}\n",
      "Panda.jpeg\n"
     ]
    }
   ],
   "source": [
    "# BS can be used to get images\n",
    "print(soup_g.img)\n",
    "print(soup_g.img.attrs)\n",
    "print(soup_g.img['src'])"
   ]
  },
  {
   "cell_type": "code",
   "execution_count": 42,
   "metadata": {},
   "outputs": [
    {
     "name": "stdout",
     "output_type": "stream",
     "text": [
      "<p class=\"panda highlight\">Giant pandas in the wild will occasionally eat other grasses, wild tubers, or even meat in the form of birds</p>\n",
      "{'class': ['panda', 'highlight']}\n",
      "['panda', 'highlight']\n"
     ]
    }
   ],
   "source": [
    "# BS can be used to get classes\n",
    "print(soup_g.p)\n",
    "print(soup_g.p.attrs)\n",
    "print(soup_g.p['class'])"
   ]
  },
  {
   "cell_type": "code",
   "execution_count": 44,
   "metadata": {},
   "outputs": [
    {
     "name": "stdout",
     "output_type": "stream",
     "text": [
      "Giant pandas in the wild will occasionally eat other grasses, wild tubers, or even meat in the form of birds\n"
     ]
    }
   ],
   "source": [
    "# BS can be used to get tag text\n",
    "print(soup_g.p.string)"
   ]
  },
  {
   "cell_type": "code",
   "execution_count": 45,
   "metadata": {},
   "outputs": [
    {
     "name": "stdout",
     "output_type": "stream",
     "text": [
      "<class 'bs4.element.NavigableString'>\n"
     ]
    }
   ],
   "source": [
    "# These strings have their own class and set of methods and attributes\n",
    "print(type(soup_g.p.string))\n",
    "print(dir(soup_g.p.string))"
   ]
  },
  {
   "cell_type": "code",
   "execution_count": 48,
   "metadata": {},
   "outputs": [],
   "source": [
    "# Elements can be filtered using Find and Find All\n",
    "import re\n",
    "\n",
    "with open(\"resources/TomJerry_Story.html\") as html_e:\n",
    "    soup_h = BeautifulSoup(html_e, \"lxml\")"
   ]
  },
  {
   "cell_type": "code",
   "execution_count": 49,
   "metadata": {},
   "outputs": [
    {
     "name": "stdout",
     "output_type": "stream",
     "text": [
      "<p class=\"title\"><b>Tom and Jerry</b></p>\n",
      "<class 'bs4.element.Tag'>\n"
     ]
    }
   ],
   "source": [
    "# The 'find' method allows to get the 1st occurance of a tag\n",
    "find_a = soup_h.find('p')\n",
    "print(find_a)\n",
    "print(type(find_a))"
   ]
  },
  {
   "cell_type": "code",
   "execution_count": 50,
   "metadata": {},
   "outputs": [
    {
     "name": "stdout",
     "output_type": "stream",
     "text": [
      "[<p class=\"title\"><b>Tom and Jerry</b></p>, <p class=\"comedy animated series\">\n",
      "        Tom and Jerry is an American animated series of comedy short films created by \n",
      "        <a class=\"creator\" href=\"https://en.wikipedia.org/wiki/William_Hanna\" id=\"link1\">William_Hanna</a> and  \n",
      "        <a class=\"creator\" href=\"https://en.wikipedia.org/wiki/Joseph_Barbera\" id=\"link2\">Joseph Barbera</a>. \n",
      "        It centers on a rivalry between the title characters\n",
      "        <a class=\"character\" href=\"https://en.wikipedia.org/wiki/Tom_Cat\" id=\"link3\">Tom</a>, a cat, and \n",
      "        <a class=\"character\" href=\"https://en.wikipedia.org/wiki/Jerry_Mouse\" id=\"link4\">Jerry</a>, a mouse.</p>, <p class=\"comedy story\">\n",
      "            The series features comic fights between an iconic pair of adversaries, \n",
      "            a house cat (Tom) and a mouse (Jerry). The plots of each short usually center on Tom's \n",
      "            numerous attempts to capture Jerry and the mayhem and destruction that follows. \n",
      "            Tom rarely succeeds in catching Jerry, mainly because of Jerry's cleverness, \n",
      "            cunning abilities, and luck. \n",
      "        </p>]\n",
      "<class 'bs4.element.ResultSet'>\n"
     ]
    }
   ],
   "source": [
    "# The 'findAll()' method allows to get every occurance of a tag\n",
    "find_b = soup_h.findAll('p')\n",
    "print(find_b)\n",
    "print(type(find_b))\n",
    "# Either if there is more than one occurance of a tag there will be returned a list"
   ]
  },
  {
   "cell_type": "code",
   "execution_count": 51,
   "metadata": {},
   "outputs": [
    {
     "name": "stdout",
     "output_type": "stream",
     "text": [
      "None\n"
     ]
    }
   ],
   "source": [
    "# If there are no occurances there will be returned None\n",
    "find_c = soup_h.find('an ape')\n",
    "print(find_c)\n"
   ]
  },
  {
   "cell_type": "code",
   "execution_count": 52,
   "metadata": {},
   "outputs": [
    {
     "name": "stdout",
     "output_type": "stream",
     "text": [
      "<img alt=\"cartoon_image\" height=\"300\" src=\"TomAndJerry.jpg\" width=\"300\"/>\n",
      "[<img alt=\"cartoon_image\" height=\"300\" src=\"TomAndJerry.jpg\" width=\"300\"/>]\n"
     ]
    }
   ],
   "source": [
    "# This methods work as well with attributes\n",
    "find_d = soup_h.find(src = 'TomAndJerry.jpg')\n",
    "print (find_d)\n",
    "find_e = soup_h.findAll(src = 'TomAndJerry.jpg')\n",
    "print (find_e)"
   ]
  },
  {
   "cell_type": "code",
   "execution_count": 54,
   "metadata": {},
   "outputs": [
    {
     "name": "stdout",
     "output_type": "stream",
     "text": [
      "<a class=\"creator\" href=\"https://en.wikipedia.org/wiki/William_Hanna\" id=\"link1\">William_Hanna</a>\n",
      "<a class=\"creator\" href=\"https://en.wikipedia.org/wiki/Joseph_Barbera\" id=\"link2\">Joseph Barbera</a>\n",
      "<a class=\"character\" href=\"https://en.wikipedia.org/wiki/Tom_Cat\" id=\"link3\">Tom</a>\n",
      "<a class=\"character\" href=\"https://en.wikipedia.org/wiki/Jerry_Mouse\" id=\"link4\">Jerry</a>\n"
     ]
    }
   ],
   "source": [
    "# These methods can be leveraged by the usage of regular expression\n",
    "for tag in soup_h.findAll(re.compile('^a')):\n",
    "    print (tag)"
   ]
  },
  {
   "cell_type": "code",
   "execution_count": 55,
   "metadata": {},
   "outputs": [
    {
     "name": "stdout",
     "output_type": "stream",
     "text": [
      "https://en.wikipedia.org/wiki/William_Hanna\n",
      "https://en.wikipedia.org/wiki/Joseph_Barbera\n",
      "https://en.wikipedia.org/wiki/Tom_Cat\n",
      "https://en.wikipedia.org/wiki/Jerry_Mouse\n"
     ]
    }
   ],
   "source": [
    "# This iterations can be useful \n",
    "for tag in soup_h.findAll(re.compile('^a')):\n",
    "    print (tag['href'])"
   ]
  },
  {
   "cell_type": "code",
   "execution_count": 56,
   "metadata": {},
   "outputs": [
    {
     "name": "stdout",
     "output_type": "stream",
     "text": [
      "<a class=\"creator\" href=\"https://en.wikipedia.org/wiki/William_Hanna\" id=\"link1\">William_Hanna</a>\n",
      "<a class=\"creator\" href=\"https://en.wikipedia.org/wiki/Joseph_Barbera\" id=\"link2\">Joseph Barbera</a>\n"
     ]
    }
   ],
   "source": [
    "# The 're.compile()' can be used to match every string used by BS to find an \n",
    "# element\n",
    "for tag in soup_h.findAll('a', attrs = {'class':re.compile('^cre')}):\n",
    "    print (tag)"
   ]
  },
  {
   "cell_type": "code",
   "execution_count": 57,
   "metadata": {},
   "outputs": [
    {
     "name": "stdout",
     "output_type": "stream",
     "text": [
      "<title> The story of Tom and Jerry </title>\n",
      "<img alt=\"cartoon_image\" height=\"300\" src=\"TomAndJerry.jpg\" width=\"300\"/>\n"
     ]
    }
   ],
   "source": [
    "# Additional example \n",
    "for tag in soup_h.findAll(re.compile('i')):\n",
    "    print (tag)"
   ]
  },
  {
   "cell_type": "code",
   "execution_count": 58,
   "metadata": {},
   "outputs": [
    {
     "name": "stdout",
     "output_type": "stream",
     "text": [
      "<a class=\"creator\" href=\"https://en.wikipedia.org/wiki/Joseph_Barbera\" id=\"link2\">Joseph Barbera</a>\n"
     ]
    }
   ],
   "source": [
    "# Additional example \n",
    "for tag in soup_h.findAll(id = re.compile('2')):\n",
    "    print (tag)"
   ]
  },
  {
   "cell_type": "code",
   "execution_count": 59,
   "metadata": {},
   "outputs": [
    {
     "name": "stdout",
     "output_type": "stream",
     "text": [
      "<img alt=\"cartoon_image\" height=\"300\" src=\"TomAndJerry.jpg\" width=\"300\"/>\n",
      "<a class=\"creator\" href=\"https://en.wikipedia.org/wiki/William_Hanna\" id=\"link1\">William_Hanna</a>\n",
      "<a class=\"creator\" href=\"https://en.wikipedia.org/wiki/Joseph_Barbera\" id=\"link2\">Joseph Barbera</a>\n",
      "<a class=\"character\" href=\"https://en.wikipedia.org/wiki/Tom_Cat\" id=\"link3\">Tom</a>\n",
      "<a class=\"character\" href=\"https://en.wikipedia.org/wiki/Jerry_Mouse\" id=\"link4\">Jerry</a>\n"
     ]
    }
   ],
   "source": [
    "# There can be found multiple elements using lists of values\n",
    "for tag in soup_h.findAll(['a','img']):\n",
    "    print (tag)"
   ]
  },
  {
   "cell_type": "code",
   "execution_count": 60,
   "metadata": {},
   "outputs": [
    {
     "name": "stdout",
     "output_type": "stream",
     "text": [
      "html\n",
      "head\n",
      "title\n",
      "body\n",
      "p\n",
      "b\n",
      "img\n",
      "p\n",
      "a\n",
      "a\n",
      "a\n",
      "a\n",
      "p\n"
     ]
    }
   ],
   "source": [
    "# The element search can be leveraged by using custom functions and filters\n",
    "# Note that the methods used to find elements keep tags that return 'True'\n",
    "# to a matching criteria\n",
    "for tag in soup_h.findAll(True):\n",
    "    print (tag.name)\n"
   ]
  },
  {
   "cell_type": "code",
   "execution_count": 62,
   "metadata": {},
   "outputs": [
    {
     "name": "stdout",
     "output_type": "stream",
     "text": [
      "<img alt=\"cartoon_image\" height=\"300\" src=\"TomAndJerry.jpg\" width=\"300\"/>\n"
     ]
    }
   ],
   "source": [
    "# As well as with Python's filter function there can be created a custom function\n",
    "# that serves a criteria to filter each element\n",
    "\n",
    "def funct_a (tag):\n",
    "    return tag.has_attr('src') and not tag.has_attr('href')\n",
    "\n",
    "for tag in soup_h.findAll(funct_a):\n",
    "    print (tag)"
   ]
  },
  {
   "cell_type": "code",
   "execution_count": 65,
   "metadata": {},
   "outputs": [
    {
     "name": "stdout",
     "output_type": "stream",
     "text": [
      "<a class=\"creator\" href=\"https://en.wikipedia.org/wiki/William_Hanna\" id=\"link1\">William_Hanna</a>\n",
      "<a class=\"creator\" href=\"https://en.wikipedia.org/wiki/Joseph_Barbera\" id=\"link2\">Joseph Barbera</a>\n",
      "<a class=\"character\" href=\"https://en.wikipedia.org/wiki/Jerry_Mouse\" id=\"link4\">Jerry</a>\n"
     ]
    }
   ],
   "source": [
    "def funct_b (href):\n",
    "    return href and not re.compile('Tom_Cat').search(href)\n",
    "\n",
    "for tag in soup_h.findAll(href=funct_b):\n",
    "    print (tag)"
   ]
  },
  {
   "cell_type": "code",
   "execution_count": 66,
   "metadata": {},
   "outputs": [
    {
     "name": "stdout",
     "output_type": "stream",
     "text": [
      "<a class=\"creator\" href=\"https://en.wikipedia.org/wiki/William_Hanna\" id=\"link1\">William_Hanna</a>\n",
      "<a class=\"creator\" href=\"https://en.wikipedia.org/wiki/Joseph_Barbera\" id=\"link2\">Joseph Barbera</a>\n",
      "<a class=\"character\" href=\"https://en.wikipedia.org/wiki/Tom_Cat\" id=\"link3\">Tom</a>\n",
      "<a class=\"character\" href=\"https://en.wikipedia.org/wiki/Jerry_Mouse\" id=\"link4\">Jerry</a>\n"
     ]
    }
   ],
   "source": [
    "def funct_c (href):\n",
    "    return href and re.compile('wikipedia').search(href)\n",
    "\n",
    "for tag in soup_h.findAll(href=funct_c):\n",
    "    print (tag)"
   ]
  },
  {
   "cell_type": "code",
   "execution_count": 75,
   "metadata": {},
   "outputs": [],
   "source": [
    "# Extracting links from a Real-World website\n",
    "# Data declaration\n",
    "uri_k = 'https://mashable.com/archive/static-website-generators/'\n",
    "\n",
    "# Data requested\n",
    "resp_data_p = requests.get(uri_k)\n",
    "\n",
    "# BS parsing\n",
    "soup_i = BeautifulSoup(resp_data_p.text, 'lxml')"
   ]
  },
  {
   "cell_type": "code",
   "execution_count": 76,
   "metadata": {},
   "outputs": [
    {
     "name": "stdout",
     "output_type": "stream",
     "text": [
      "https://mashable.com\n",
      "https://mashable.com/tech\n",
      "https://mashable.com/science\n",
      "https://mashable.com/life\n",
      "https://mashable.com/category/social-good\n",
      "https://mashable.com/entertainment\n",
      "https://mashable.com/deals\n",
      "https://mashable.com/category/apps-and-software\n",
      "https://mashable.com/category/cybersecurity\n",
      "https://mashable.com/category/mobile\n",
      "https://mashable.com/category/smart-home\n",
      "https://mashable.com/category/social-media\n",
      "https://mashable.com/category/tech-industry\n",
      "https://mashable.com/category/transportation\n",
      "https://mashable.com/tech\n",
      "https://mashable.com/category/space\n",
      "https://mashable.com/category/climate-change\n",
      "https://mashable.com/category/environment\n",
      "https://mashable.com/science\n",
      "https://mashable.com/category/digital-culture\n",
      "https://mashable.com/category/family-parenting\n",
      "https://mashable.com/category/health-wellness\n",
      "https://mashable.com/category/sex-dating-relationships\n",
      "https://mashable.com/life\n",
      "https://mashable.com/category/activism\n",
      "https://mashable.com/category/gender\n",
      "https://mashable.com/category/lgbtq\n",
      "https://mashable.com/category/mental-health\n",
      "https://mashable.com/category/racism\n",
      "https://mashable.com/category/sustainability\n",
      "https://mashable.com/category/social-good\n",
      "https://mashable.com/category/games\n",
      "https://mashable.com/category/movies\n",
      "https://mashable.com/category/podcasts\n",
      "https://mashable.com/category/tv-shows\n",
      "https://mashable.com/entertainment\n",
      "https://mashable.com/roundups/category/house-home\n",
      "https://mashable.com/roundups/category/tech\n",
      "https://mashable.com/roundups/category/kitchen\n",
      "https://mashable.com/roundups/category/fitness\n",
      "https://mashable.com/roundups/category/sex-toys\n",
      "https://mashable.com/roundups/category/apps-and-software\n",
      "https://mashable.com/roundups/category/sex-dating-relationships\n",
      "https://mashable.com/gifts\n",
      "https://mashable.com/roundups\n",
      "https://mashable.com/review\n",
      "https://mashable.com/deals/category/house-home\n",
      "https://mashable.com/deals/category/tech\n",
      "https://shop.mashable.com/\n",
      "https://mashable.com/deals\n",
      "https://mashable.com/newsletters\n",
      "https://mashable.com/shows\n",
      "https://mashable.com/videos\n",
      "https://www.facebook.com/sharer.php?u=https%3A%2F%2Fmashable.com%2Farchive%2Fstatic-website-generators\n",
      "https://twitter.com/intent/tweet?url=https%3A%2F%2Fmashable.com%2Farchive%2Fstatic-website-generators&text=13+Static+Site+Generators+to+Help+You+Build+Your+Ultimate+Website\n",
      "https://share.flipboard.com/bookmarklet/popout?v=2&url=https%3A%2F%2Fmashable.com%2Farchive%2Fstatic-website-generators&title=13+Static+Site+Generators+to+Help+You+Build+Your+Ultimate+Website\n",
      "https://mashable.com/tech\n",
      "https://mashable.com/science\n",
      "https://mashable.com/life\n",
      "https://mashable.com/category/social-good\n",
      "https://mashable.com/entertainment\n",
      "https://mashable.com/mashable-staff-masthead\n",
      "https://mashable.com/contact-us\n",
      "https://www.j2global.com/careers/jobs/?brand=Mashable\n",
      "https://mashable.com/newsletters\n",
      "https://mashable.com/sitemap\n",
      "https://www.facebook.com/mashable/\n",
      "https://twitter.com/mashable\n",
      "https://www.youtube.com/user/mashable\n",
      "https://www.pinterest.com/mashable/\n",
      "https://flipboard.com/@Mashable\n",
      "https://www.linkedin.com/company/mashable\n",
      "https://mashable.com/feeds/rss/all\n",
      "https://www.ziffdavis.com/about\n",
      "https://www.ziffdavis.com/privacy-policy\n",
      "https://www.ziffdavis.com/terms-of-use\n",
      "https://ziffmedia.com/\n",
      "https://www.ziffdavis.com/accessibility\n",
      "https://mashable.com/ccpa\n",
      "https://www.bbb.org/us/ny/new-york/profile/digital-media/ziff-davis-llc-0121-531/#sealclick\n"
     ]
    }
   ],
   "source": [
    "# Link list\n",
    "# This list contains every secure link within this web page\n",
    "list_a = soup_i.findAll('a', attrs = {'href': re.compile('^https')})\n",
    "\n",
    "for item in list_a:\n",
    "    print (item['href'])\n",
    "\n"
   ]
  },
  {
   "cell_type": "code",
   "execution_count": 80,
   "metadata": {},
   "outputs": [
    {
     "name": "stdout",
     "output_type": "stream",
     "text": [
      "https://mashable.com/tech\n",
      "https://mashable.com/science\n",
      "https://mashable.com/life\n",
      "https://mashable.com/category/social-good\n",
      "https://mashable.com/entertainment\n",
      "https://mashable.com/deals\n",
      "https://mashable.com/category/apps-and-software\n",
      "https://mashable.com/category/cybersecurity\n",
      "https://mashable.com/category/mobile\n",
      "https://mashable.com/category/smart-home\n",
      "https://mashable.com/category/social-media\n",
      "https://mashable.com/category/tech-industry\n",
      "https://mashable.com/category/transportation\n",
      "https://mashable.com/tech\n",
      "https://mashable.com/category/space\n",
      "https://mashable.com/category/climate-change\n",
      "https://mashable.com/category/environment\n",
      "https://mashable.com/science\n",
      "https://mashable.com/category/digital-culture\n",
      "https://mashable.com/category/family-parenting\n",
      "https://mashable.com/category/health-wellness\n",
      "https://mashable.com/category/sex-dating-relationships\n",
      "https://mashable.com/life\n",
      "https://mashable.com/category/activism\n",
      "https://mashable.com/category/gender\n",
      "https://mashable.com/category/lgbtq\n",
      "https://mashable.com/category/mental-health\n",
      "https://mashable.com/category/racism\n",
      "https://mashable.com/category/sustainability\n",
      "https://mashable.com/category/social-good\n",
      "https://mashable.com/category/games\n",
      "https://mashable.com/category/movies\n",
      "https://mashable.com/category/podcasts\n",
      "https://mashable.com/category/tv-shows\n",
      "https://mashable.com/entertainment\n",
      "https://mashable.com/roundups/category/house-home\n",
      "https://mashable.com/roundups/category/tech\n",
      "https://mashable.com/roundups/category/kitchen\n",
      "https://mashable.com/roundups/category/fitness\n",
      "https://mashable.com/roundups/category/sex-toys\n",
      "https://mashable.com/roundups/category/apps-and-software\n",
      "https://mashable.com/roundups/category/sex-dating-relationships\n",
      "https://mashable.com/gifts\n",
      "https://mashable.com/roundups\n",
      "https://mashable.com/review\n",
      "https://mashable.com/deals/category/house-home\n",
      "https://mashable.com/deals/category/tech\n",
      "https://mashable.com/deals\n",
      "https://mashable.com/newsletters\n",
      "https://mashable.com/shows\n",
      "https://mashable.com/videos\n",
      "https://mashable.com/tech\n",
      "https://mashable.com/science\n",
      "https://mashable.com/life\n",
      "https://mashable.com/category/social-good\n",
      "https://mashable.com/entertainment\n",
      "https://mashable.com/mashable-staff-masthead\n",
      "https://mashable.com/contact-us\n",
      "https://mashable.com/newsletters\n",
      "https://mashable.com/sitemap\n",
      "https://mashable.com/feeds/rss/all\n",
      "https://mashable.com/ccpa\n"
     ]
    }
   ],
   "source": [
    "# This list contains every link related to this same website\n",
    "list_b = soup_i.findAll('a', attrs = {'href': re.compile('^https://mashable.com/')})\n",
    "\n",
    "for item in list_b:\n",
    "    print (item['href'])"
   ]
  },
  {
   "cell_type": "code",
   "execution_count": 79,
   "metadata": {},
   "outputs": [
    {
     "name": "stdout",
     "output_type": "stream",
     "text": [
      "https://mashable.com\n",
      "https://mashable.com/archive/static-website-generators/series/self-made\n",
      "https://mashable.com/archive/static-website-generators/series/best-of-2022\n",
      "https://mashable.com/tech\n",
      "https://mashable.com/science\n",
      "https://mashable.com/life\n",
      "https://mashable.com/category/social-good\n",
      "https://mashable.com/entertainment\n",
      "https://mashable.com/deals\n",
      "https://mashable.com/archive/static-website-generators/series/self-made\n",
      "https://mashable.com/archive/static-website-generators/series/best-of-2022\n",
      "https://mashable.com/category/apps-and-software\n",
      "https://mashable.com/category/cybersecurity\n",
      "https://mashable.com/category/mobile\n",
      "https://mashable.com/category/smart-home\n",
      "https://mashable.com/category/social-media\n",
      "https://mashable.com/category/tech-industry\n",
      "https://mashable.com/category/transportation\n",
      "https://mashable.com/tech\n",
      "https://mashable.com/category/space\n",
      "https://mashable.com/category/climate-change\n",
      "https://mashable.com/category/environment\n",
      "https://mashable.com/science\n",
      "https://mashable.com/category/digital-culture\n",
      "https://mashable.com/category/family-parenting\n",
      "https://mashable.com/category/health-wellness\n",
      "https://mashable.com/category/sex-dating-relationships\n",
      "https://mashable.com/life\n",
      "https://mashable.com/category/activism\n",
      "https://mashable.com/category/gender\n",
      "https://mashable.com/category/lgbtq\n",
      "https://mashable.com/category/mental-health\n",
      "https://mashable.com/category/racism\n",
      "https://mashable.com/category/sustainability\n",
      "https://mashable.com/category/social-good\n",
      "https://mashable.com/category/games\n",
      "https://mashable.com/category/movies\n",
      "https://mashable.com/category/podcasts\n",
      "https://mashable.com/category/tv-shows\n",
      "https://mashable.com/entertainment\n",
      "https://mashable.com/roundups/category/house-home\n",
      "https://mashable.com/roundups/category/tech\n",
      "https://mashable.com/roundups/category/kitchen\n",
      "https://mashable.com/roundups/category/fitness\n",
      "https://mashable.com/roundups/category/sex-toys\n",
      "https://mashable.com/roundups/category/apps-and-software\n",
      "https://mashable.com/roundups/category/sex-dating-relationships\n",
      "https://mashable.com/gifts\n",
      "https://mashable.com/archive/static-website-generators/mashable-choice\n",
      "https://mashable.com/roundups\n",
      "https://mashable.com/review\n",
      "https://mashable.com/deals/category/house-home\n",
      "https://mashable.com/deals/category/tech\n",
      "https://shop.mashable.com/\n",
      "https://mashable.com/deals\n",
      "https://mashable.com/newsletters\n",
      "https://mashable.com/shows\n",
      "https://mashable.com/videos\n",
      "https://mashable.com/archive/static-website-generators/author/grace-smith\n",
      "https://www.facebook.com/sharer.php?u=https%3A%2F%2Fmashable.com%2Farchive%2Fstatic-website-generators\n",
      "https://twitter.com/intent/tweet?url=https%3A%2F%2Fmashable.com%2Farchive%2Fstatic-website-generators&text=13+Static+Site+Generators+to+Help+You+Build+Your+Ultimate+Website\n",
      "https://share.flipboard.com/bookmarklet/popout?v=2&url=https%3A%2F%2Fmashable.com%2Farchive%2Fstatic-website-generators&title=13+Static+Site+Generators+to+Help+You+Build+Your+Ultimate+Website\n",
      "https://mashable.com/tech\n",
      "https://mashable.com/science\n",
      "https://mashable.com/life\n",
      "https://mashable.com/category/social-good\n",
      "https://mashable.com/entertainment\n",
      "https://mashable.com/mashable-staff-masthead\n",
      "https://mashable.com/contact-us\n",
      "https://www.j2global.com/careers/jobs/?brand=Mashable\n",
      "https://mashable.com/newsletters\n",
      "https://mashable.com/sitemap\n",
      "https://www.facebook.com/mashable/\n",
      "https://twitter.com/mashable\n",
      "http://instagram.com/Mashable\n",
      "https://www.youtube.com/user/mashable\n",
      "https://www.pinterest.com/mashable/\n",
      "https://mashable.com/archive/static-website-generators/ https://www.tiktok.com/@mashable\n",
      "https://flipboard.com/@Mashable\n",
      "https://www.linkedin.com/company/mashable\n",
      "https://mashable.com/feeds/rss/all\n",
      "https://www.ziffdavis.com/about\n",
      "https://www.ziffdavis.com/privacy-policy\n",
      "https://www.ziffdavis.com/terms-of-use\n",
      "https://ziffmedia.com/\n",
      "https://www.ziffdavis.com/accessibility\n",
      "https://mashable.com/ccpa\n",
      "https://www.bbb.org/us/ny/new-york/profile/digital-media/ziff-davis-llc-0121-531/#sealclick\n"
     ]
    }
   ],
   "source": [
    "# This list contains every link in this same website \n",
    "list_c = soup_i.findAll('a', attrs = {'href': True})\n",
    "\n",
    "for item in list_c:\n",
    "    if not item['href'].startswith('http'):\n",
    "        item = uri_k + item['href'].strip('/')\n",
    "    else:\n",
    "        item = item['href']\n",
    "    print(item)"
   ]
  },
  {
   "cell_type": "code",
   "execution_count": 85,
   "metadata": {},
   "outputs": [
    {
     "name": "stdout",
     "output_type": "stream",
     "text": [
      "https://helios-i.mashable.com/imagery/archives/00s0gVKdAC9EPTZERS7TvPb/hero-image.fill.size_1248x702.v1647024413.jpg\n",
      "https://c.evidon.com/pub/icong1.png\n"
     ]
    }
   ],
   "source": [
    "# This list contains every image in this website \n",
    "list_d = soup_i.findAll('img')\n",
    "\n",
    "for item in list_d:\n",
    "    print (item.get('src'))"
   ]
  },
  {
   "cell_type": "code",
   "execution_count": 87,
   "metadata": {},
   "outputs": [
    {
     "name": "stdout",
     "output_type": "stream",
     "text": [
      "div|{}\n",
      "<class 'bs4.element.SoupStrainer'>\n"
     ]
    }
   ],
   "source": [
    "# There's a way to parse a segment of a file using a tool called SoupStrainer\n",
    "from bs4 import SoupStrainer\n",
    "\n",
    "html_f = \"\"\"\n",
    "\n",
    "<html>\n",
    "<head>\n",
    "    <title> The story of Tom and Jerry </title>\n",
    "</head>\n",
    " <body>\n",
    "    <p class = \"title\"><b>Tom and Jerry</b></p>\n",
    "    <img src = \"TomAndJerry.jpg\" width = \"300\" height = \"300\" alt = \"cartoon_image\"/>\n",
    "    <p class = \"comedy animated series\">\n",
    "        Tom and Jerry is an American animated series of comedy short films created by \n",
    "        <a href = \"https://en.wikipedia.org/wiki/William_Hanna\" class = \"creator\" id = \"link1\" >William_Hanna</a> and  \n",
    "        <a href = \"https://en.wikipedia.org/wiki/Joseph_Barbera\" class = \"creator\" id = \"link2\" >Joseph Barbera</a>. \n",
    "        It centers on a rivalry between the title characters\n",
    "        <a href = \"https://en.wikipedia.org/wiki/Tom_Cat\" class = \"character\" id = \"link3\" >Tom</a>, a cat, and \n",
    "        <a href = \"https://en.wikipedia.org/wiki/Jerry_Mouse\" class = \"character\" id = \"link4\" >Jerry</a>, a mouse.</p> \n",
    "    \n",
    "        <div>\n",
    "                <img src = \"https://upload.wikimedia.org/wikipedia/commons/d/d2/William_Hanna_1977.jpg\" \n",
    "                     width = \"300\" height = \"300\" alt = \"creator_image\" ></img>\n",
    "                <img src = \"https://upload.wikimedia.org/wikipedia/commons/6/67/JBarbera.jpg\" \n",
    "                     width = \"300\" height = \"300\" alt = \"creator_image\"></img>\n",
    "                <img src = \"https://upload.wikimedia.org/wikipedia/en/2/2f/Jerry_Mouse.png\"></img>\n",
    "                <img src = \"https://upload.wikimedia.org/wikipedia/en/f/f6/Tom_Tom_and_Jerry.png\" alt = \"Tom_image\"></img>\n",
    "        </div>\n",
    "        <p class = \"comedy story\">\n",
    "            The series features comic fights between an iconic pair of adversaries, \n",
    "            a house cat (Tom) and a mouse (Jerry). The plots of each short usually center on Tom's \n",
    "            numerous attempts to capture Jerry and the mayhem and destruction that follows. \n",
    "            Tom rarely succeeds in catching Jerry, mainly because of Jerry's cleverness, \n",
    "            cunning abilities, and luck. \n",
    "        </p>\n",
    "        <i>Tom and Jerry show is a full length comedy show</i>\n",
    " </body>\n",
    "</html>\n",
    "\n",
    "\"\"\"\n",
    "\n",
    "# The SoupStrainer object allows to take the segment/tag needed and ignore the \n",
    "# rest\n",
    "strained_a = SoupStrainer('div')\n",
    "print (strained_a)\n",
    "print (type(strained_a))"
   ]
  },
  {
   "cell_type": "code",
   "execution_count": 89,
   "metadata": {},
   "outputs": [
    {
     "data": {
      "text/plain": [
       "'<div>\\n <img alt=\"creator_image\" height=\"300\" src=\"https://upload.wikimedia.org/wikipedia/commons/d/d2/William_Hanna_1977.jpg\" width=\"300\"/>\\n <img alt=\"creator_image\" height=\"300\" src=\"https://upload.wikimedia.org/wikipedia/commons/6/67/JBarbera.jpg\" width=\"300\"/>\\n <img src=\"https://upload.wikimedia.org/wikipedia/en/2/2f/Jerry_Mouse.png\"/>\\n <img alt=\"Tom_image\" src=\"https://upload.wikimedia.org/wikipedia/en/f/f6/Tom_Tom_and_Jerry.png\"/>\\n</div>'"
      ]
     },
     "execution_count": 89,
     "metadata": {},
     "output_type": "execute_result"
    }
   ],
   "source": [
    "# BS parser\n",
    "soup_j = BeautifulSoup(html_f, 'lxml', parse_only = strained_a)\n",
    "soup_j.prettify()"
   ]
  },
  {
   "cell_type": "code",
   "execution_count": 91,
   "metadata": {},
   "outputs": [
    {
     "data": {
      "text/plain": [
       "'<a class=\"creator\" href=\"https://en.wikipedia.org/wiki/William_Hanna\" id=\"link1\">\\n William_Hanna\\n</a>\\n<a class=\"creator\" href=\"https://en.wikipedia.org/wiki/Joseph_Barbera\" id=\"link2\">\\n Joseph Barbera\\n</a>\\n<a class=\"character\" href=\"https://en.wikipedia.org/wiki/Tom_Cat\" id=\"link3\">\\n Tom\\n</a>\\n<a class=\"character\" href=\"https://en.wikipedia.org/wiki/Jerry_Mouse\" id=\"link4\">\\n Jerry\\n</a>'"
      ]
     },
     "execution_count": 91,
     "metadata": {},
     "output_type": "execute_result"
    }
   ],
   "source": [
    "# The SoupStrainer object allows to take the segment/tag needed and ignore the \n",
    "# rest\n",
    "strained_b = SoupStrainer('a')\n",
    "\n",
    "# BS parser\n",
    "soup_k = BeautifulSoup(html_f, 'lxml', parse_only = strained_b)\n",
    "soup_k.prettify()"
   ]
  },
  {
   "cell_type": "code",
   "execution_count": 92,
   "metadata": {},
   "outputs": [
    {
     "data": {
      "text/plain": [
       "'<img alt=\"creator_image\" height=\"300\" src=\"https://upload.wikimedia.org/wikipedia/commons/d/d2/William_Hanna_1977.jpg\" width=\"300\"/>\\n<img alt=\"creator_image\" height=\"300\" src=\"https://upload.wikimedia.org/wikipedia/commons/6/67/JBarbera.jpg\" width=\"300\"/>\\n'"
      ]
     },
     "execution_count": 92,
     "metadata": {},
     "output_type": "execute_result"
    }
   ],
   "source": [
    "# Soup strainer works not only with class but with attributes\n",
    "strained_c = SoupStrainer(alt = 'creator_image')\n",
    "\n",
    "# BS parser\n",
    "soup_l = BeautifulSoup(html_f, 'lxml', parse_only = strained_c)\n",
    "soup_l.prettify()"
   ]
  },
  {
   "cell_type": "code",
   "execution_count": 97,
   "metadata": {},
   "outputs": [
    {
     "data": {
      "text/plain": [
       "'<a class=\"creator\" href=\"https://en.wikipedia.org/wiki/William_Hanna\" id=\"link1\">\\n William_Hanna\\n</a>\\n<a class=\"creator\" href=\"https://en.wikipedia.org/wiki/Joseph_Barbera\" id=\"link2\">\\n Joseph Barbera\\n</a>\\n<a class=\"character\" href=\"https://en.wikipedia.org/wiki/Tom_Cat\" id=\"link3\">\\n Tom\\n</a>\\n<a class=\"character\" href=\"https://en.wikipedia.org/wiki/Jerry_Mouse\" id=\"link4\">\\n Jerry\\n</a>'"
      ]
     },
     "execution_count": 97,
     "metadata": {},
     "output_type": "execute_result"
    }
   ],
   "source": [
    "# Soup strainer works not only with class but with classes and tag IDs\n",
    "strained_d = SoupStrainer(id = re.compile('link'))\n",
    "\n",
    "# BS parser\n",
    "soup_m = BeautifulSoup(html_f, 'lxml', parse_only = strained_d)\n",
    "soup_m.prettify()"
   ]
  },
  {
   "cell_type": "code",
   "execution_count": 100,
   "metadata": {},
   "outputs": [
    {
     "data": {
      "text/plain": [
       "'<a class=\"creator\" href=\"https://en.wikipedia.org/wiki/William_Hanna\" id=\"link1\">\\n William_Hanna\\n</a>\\n<a class=\"creator\" href=\"https://en.wikipedia.org/wiki/Joseph_Barbera\" id=\"link2\">\\n Joseph Barbera\\n</a>'"
      ]
     },
     "execution_count": 100,
     "metadata": {},
     "output_type": "execute_result"
    }
   ],
   "source": [
    "# Soup strainer works not only with class but with attributes\n",
    "strained_c = SoupStrainer(class_ = 'creator')\n",
    "\n",
    "# BS parser\n",
    "soup_l = BeautifulSoup(html_f, 'lxml', parse_only = strained_c)\n",
    "soup_l.prettify()"
   ]
  }
 ],
 "metadata": {
  "kernelspec": {
   "display_name": "Python 3.10.4 ('BE')",
   "language": "python",
   "name": "python3"
  },
  "language_info": {
   "codemirror_mode": {
    "name": "ipython",
    "version": 3
   },
   "file_extension": ".py",
   "mimetype": "text/x-python",
   "name": "python",
   "nbconvert_exporter": "python",
   "pygments_lexer": "ipython3",
   "version": "3.10.4"
  },
  "orig_nbformat": 4,
  "vscode": {
   "interpreter": {
    "hash": "0913f2e2c06d0771fd9d7fa954e689c47dbb4161d751da8788b51a616cd1eddd"
   }
  }
 },
 "nbformat": 4,
 "nbformat_minor": 2
}
